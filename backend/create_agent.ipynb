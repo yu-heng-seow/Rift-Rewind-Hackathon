{
 "cells": [
  {
   "cell_type": "markdown",
   "id": "8a8415e3",
   "metadata": {},
   "source": [
    "# Setup"
   ]
  },
  {
   "cell_type": "code",
   "execution_count": 1,
   "id": "62f9f755",
   "metadata": {},
   "outputs": [
    {
     "data": {
      "text/plain": [
       "('us-east-1', '161242380044')"
      ]
     },
     "execution_count": 1,
     "metadata": {},
     "output_type": "execute_result"
    }
   ],
   "source": [
    "import time\n",
    "import boto3\n",
    "import logging\n",
    "import ipywidgets as widgets\n",
    "import uuid\n",
    "\n",
    "from agent import create_agent_role, create_lambda_role\n",
    "from agent import create_dynamodb, create_lambda, invoke_agent_helper\n",
    "\n",
    "## Clients\n",
    "s3_client = boto3.client('s3')\n",
    "sts_client = boto3.client('sts')\n",
    "session = boto3.session.Session()\n",
    "region = session.region_name\n",
    "account_id = sts_client.get_caller_identity()[\"Account\"]\n",
    "bedrock_agent_client = boto3.client('bedrock-agent')\n",
    "bedrock_agent_runtime_client = boto3.client('bedrock-agent-runtime')\n",
    "logging.basicConfig(format='[%(asctime)s] p%(process)s {%(filename)s:%(lineno)d} %(levelname)s - %(message)s', level=logging.INFO)\n",
    "logger = logging.getLogger(__name__)\n",
    "region, account_id"
   ]
  },
  {
   "cell_type": "markdown",
   "id": "832be1ba",
   "metadata": {},
   "source": [
    "# Setting up Agent's information"
   ]
  },
  {
   "cell_type": "code",
   "execution_count": 2,
   "id": "891bb4d1",
   "metadata": {},
   "outputs": [],
   "source": [
    "suffix = f\"{region}-{account_id}\"\n",
    "agent_name = 'lol-coach-agent'\n",
    "agent_bedrock_allow_policy_name = f\"{agent_name}-ba\"\n",
    "agent_role_name = f'AmazonBedrockExecutionRoleForAgents_{agent_name}'\n",
    "\n",
    "agent_description = \"Agent in charge of managing player data and doing web searches for League of Legends related information.\"\n",
    "agent_instruction = \"\"\"\n",
    "You are an expert League of Legends coach agent, helping players retrieve game data, create a new League of Legends player profile, and find League of Legends related information through web searches.\n",
    "\"\"\""
   ]
  },
  {
   "cell_type": "markdown",
   "id": "07789f65",
   "metadata": {},
   "source": [
    "# Select Foundation Model"
   ]
  },
  {
   "cell_type": "code",
   "execution_count": 3,
   "id": "131898db",
   "metadata": {},
   "outputs": [
    {
     "name": "stdout",
     "output_type": "stream",
     "text": [
      "Dropdown(description='FM:', options=(('Claude 3 Sonnet', 'anthropic.claude-3-sonnet-20240229-v1:0'), ('Claude 3 Haiku', 'anthropic.claude-3-haiku-20240307-v1:0')), value='anthropic.claude-3-sonnet-20240229-v1:0')\n",
      "anthropic.claude-3-sonnet-20240229-v1:0\n"
     ]
    }
   ],
   "source": [
    "agent_foundation_model_selector = widgets.Dropdown(\n",
    "    options=[\n",
    "        ('Claude 3 Sonnet', 'anthropic.claude-3-sonnet-20240229-v1:0'),\n",
    "        ('Claude 3 Haiku', 'anthropic.claude-3-haiku-20240307-v1:0')\n",
    "    ],\n",
    "    value='anthropic.claude-3-sonnet-20240229-v1:0',\n",
    "    description='FM:',\n",
    "    disabled=False,\n",
    ")\n",
    "print(agent_foundation_model_selector)\n",
    "\n",
    "agent_foundation_model = agent_foundation_model_selector.value\n",
    "print(agent_foundation_model)"
   ]
  },
  {
   "cell_type": "markdown",
   "id": "0a11dbfd",
   "metadata": {},
   "source": [
    "# Creating Agent"
   ]
  },
  {
   "cell_type": "code",
   "execution_count": 4,
   "id": "7b57df21",
   "metadata": {},
   "outputs": [
    {
     "name": "stdout",
     "output_type": "stream",
     "text": [
      "{'Role': {'Path': '/', 'RoleName': 'AmazonBedrockExecutionRoleForAgents_lol-coach-agent', 'RoleId': 'AROASLCWLO4GENFDXKKU4', 'Arn': 'arn:aws:iam::161242380044:role/AmazonBedrockExecutionRoleForAgents_lol-coach-agent', 'CreateDate': datetime.datetime(2025, 10, 11, 7, 32, 46, tzinfo=tzutc()), 'AssumeRolePolicyDocument': {'Version': '2012-10-17', 'Statement': [{'Effect': 'Allow', 'Principal': {'Service': 'bedrock.amazonaws.com'}, 'Action': 'sts:AssumeRole'}]}, 'MaxSessionDuration': 3600, 'RoleLastUsed': {'LastUsedDate': datetime.datetime(2025, 10, 11, 16, 38, 24, tzinfo=tzutc()), 'Region': 'us-east-1'}}, 'ResponseMetadata': {'RequestId': '25e512ea-cadb-4c90-a3fa-a8e82486c620', 'HTTPStatusCode': 200, 'HTTPHeaders': {'date': 'Sat, 11 Oct 2025 16:49:37 GMT', 'x-amzn-requestid': '25e512ea-cadb-4c90-a3fa-a8e82486c620', 'content-type': 'text/xml', 'content-length': '1006'}, 'RetryAttempts': 0}}\n",
      "{'ResponseMetadata': {'RequestId': '6cebcaad-4817-4842-9ae6-10ce86af47ae', 'HTTPStatusCode': 202, 'HTTPHeaders': {'date': 'Sat, 11 Oct 2025 16:49:38 GMT', 'content-type': 'application/json', 'content-length': '852', 'connection': 'keep-alive', 'x-amzn-requestid': '6cebcaad-4817-4842-9ae6-10ce86af47ae', 'x-amz-apigw-id': 'SSqZaEFDIAMEJmw=', 'x-amzn-trace-id': 'Root=1-68ea8aa2-5866b00a1d4533451df20a17'}, 'RetryAttempts': 0}, 'agent': {'agentId': 'UFSZYQKWFU', 'agentName': 'lol-coach-agent', 'agentArn': 'arn:aws:bedrock:us-east-1:161242380044:agent/UFSZYQKWFU', 'instruction': '\\nYou are an expert League of Legends coach agent, helping players retrieve game data, create a new League of Legends player profile, and find League of Legends related information through web searches.\\n', 'agentStatus': 'CREATING', 'foundationModel': 'anthropic.claude-3-sonnet-20240229-v1:0', 'description': 'Agent in charge of managing player data and doing web searches for League of Legends related information.', 'orchestrationType': 'DEFAULT', 'idleSessionTTLInSeconds': 1800, 'agentResourceRoleArn': 'arn:aws:iam::161242380044:role/AmazonBedrockExecutionRoleForAgents_lol-coach-agent', 'createdAt': datetime.datetime(2025, 10, 11, 16, 49, 38, 368994, tzinfo=tzutc()), 'updatedAt': datetime.datetime(2025, 10, 11, 16, 49, 38, 368994, tzinfo=tzutc()), 'agentCollaboration': 'DISABLED'}}\n",
      "The agent id is: UFSZYQKWFU\n"
     ]
    }
   ],
   "source": [
    "agent_role = create_agent_role(agent_name, agent_foundation_model)\n",
    "print(agent_role)\n",
    "\n",
    "response = bedrock_agent_client.create_agent(\n",
    "    agentName=agent_name,\n",
    "    agentResourceRoleArn=agent_role['Role']['Arn'],\n",
    "    description=agent_description,\n",
    "    idleSessionTTLInSeconds=1800,\n",
    "    foundationModel=agent_foundation_model,\n",
    "    instruction=agent_instruction,\n",
    ")\n",
    "print(response)\n",
    "\n",
    "agent_id = response['agent']['agentId']\n",
    "print(\"The agent id is:\",agent_id)"
   ]
  },
  {
   "cell_type": "markdown",
   "id": "e33493b5",
   "metadata": {},
   "source": [
    "# Creating DynamoDB Table"
   ]
  },
  {
   "cell_type": "code",
   "execution_count": 5,
   "id": "fea85fed",
   "metadata": {},
   "outputs": [],
   "source": [
    "table_name = 'player_data'\n",
    "# create_dynamodb(table_name)"
   ]
  },
  {
   "cell_type": "markdown",
   "id": "edb16b46",
   "metadata": {},
   "source": [
    "# Creating Lambda Function for Data retrieval Action Group"
   ]
  },
  {
   "cell_type": "code",
   "execution_count": 6,
   "id": "07436b28",
   "metadata": {},
   "outputs": [
    {
     "name": "stdout",
     "output_type": "stream",
     "text": [
      "Overwriting lambda_function.py\n"
     ]
    }
   ],
   "source": [
    "%%writefile lambda_function.py\n",
    "import json\n",
    "import uuid\n",
    "import boto3\n",
    "\n",
    "dynamodb = boto3.resource('dynamodb')\n",
    "table = dynamodb.Table('player_data')\n",
    "\n",
    "def get_named_parameter(event, name):\n",
    "    \"\"\"\n",
    "    Get a parameter from the lambda event\n",
    "    \"\"\"\n",
    "    return next(item for item in event['parameters'] if item['name'] == name)['value']\n",
    "\n",
    "def get_player_data(player_id):\n",
    "    \"\"\"\n",
    "    Retrieve game data of a specific player\n",
    "    \n",
    "    Args:\n",
    "        player_id (string): The unique identifier for the player.\n",
    "    \"\"\"\n",
    "    try:\n",
    "        response = table.get_item(Key={'player_id': player_id})\n",
    "        if 'Item' in response:\n",
    "            return response['Item']\n",
    "        else:\n",
    "            return {'message': f'No data found with ID {player_id}'}\n",
    "    except Exception as e:\n",
    "        return {'error': str(e)}\n",
    "    \n",
    "def create_lol_player(player_name, rank, region, main_role, favorite_champion):\n",
    "    \"\"\"\n",
    "    Create a new League of Legends player profile.\n",
    "    \n",
    "    Args:\n",
    "        player_name (string): The in-game name of the player.\n",
    "        rank (string): The current rank of the player (e.g. 'Gold IV', 'Diamond I').\n",
    "        region (string): The server region (e.g. 'NA', 'EUW', 'SG').\n",
    "        main_role (string): The player’s main role (e.g. 'Top', 'Jungle', 'Mid', 'ADC', 'Support').\n",
    "        favorite_champion (string): The champion the player uses most frequently.\n",
    "    \"\"\"\n",
    "    try:\n",
    "        player_id = str(uuid.uuid4())[:8]\n",
    "        table.put_item(\n",
    "            Item={\n",
    "                'player_id': player_id,\n",
    "                'player_name': player_name,\n",
    "                'rank': rank,\n",
    "                'region': region,\n",
    "                'main_role': main_role,\n",
    "                'favorite_champion': favorite_champion\n",
    "            }\n",
    "        )\n",
    "        return {'player_id': player_id}\n",
    "    except Exception as e:\n",
    "        return {'error': str(e)}\n",
    "    \n",
    "def lambda_handler(event, context):\n",
    "    # get the action group used during the invocation of the lambda function\n",
    "    actionGroup = event.get('actionGroup', '')\n",
    "    \n",
    "    # name of the function that should be invoked\n",
    "    function = event.get('function', '')\n",
    "    \n",
    "    # parameters to invoke function with\n",
    "    parameters = event.get('parameters', [])\n",
    "\n",
    "    if function == 'get_player_data':\n",
    "        player_id = get_named_parameter(event, \"player_id\")\n",
    "        if player_id:\n",
    "            response = str(get_player_data(player_id))\n",
    "            responseBody = {'TEXT': {'body': json.dumps(response)}}\n",
    "        else:\n",
    "            responseBody = {'TEXT': {'body': 'Missing player_id parameter'}}\n",
    "    \n",
    "    elif function == 'create_lol_player':\n",
    "        player_name = get_named_parameter(event, \"player_name\")\n",
    "        rank = get_named_parameter(event, \"rank\")\n",
    "        region = get_named_parameter(event, \"region\")\n",
    "        main_role = get_named_parameter(event, \"main_role\")\n",
    "        favorite_champion = get_named_parameter(event, \"favorite_champion\")\n",
    "        \n",
    "        if all([player_name, rank, region, main_role, favorite_champion]):\n",
    "            response = str(create_lol_player(player_name, rank, region, main_role, favorite_champion))\n",
    "            responseBody = {'TEXT': {'body': json.dumps(response)}}\n",
    "        else:\n",
    "            responseBody = {'TEXT': {'body': 'Missing required parameters'}}\n",
    "\n",
    "    else:\n",
    "        responseBody = {'TEXT': {'body': 'Invalid function'}}\n",
    "\n",
    "    action_response = {\n",
    "        'actionGroup': actionGroup,\n",
    "        'function': function,\n",
    "        'functionResponse': {\n",
    "            'responseBody': responseBody\n",
    "        }\n",
    "    }\n",
    "\n",
    "    function_response = {'response': action_response, 'messageVersion': event['messageVersion']}\n",
    "    print(\"Response: {}\".format(function_response))\n",
    "\n",
    "    return function_response"
   ]
  },
  {
   "cell_type": "code",
   "execution_count": 7,
   "id": "c966a5f8",
   "metadata": {},
   "outputs": [],
   "source": [
    "lambda_iam_role = create_lambda_role(agent_name, table_name)\n",
    "data_retrieval_lambda_function_name = f'{agent_name}-data-retrieval-lambda'\n",
    "data_retrieval_lambda_function = create_lambda(data_retrieval_lambda_function_name, lambda_iam_role)"
   ]
  },
  {
   "cell_type": "markdown",
   "id": "4494558b",
   "metadata": {},
   "source": [
    "# Create Data retrieval Action Group"
   ]
  },
  {
   "cell_type": "code",
   "execution_count": 8,
   "id": "48b551af",
   "metadata": {},
   "outputs": [
    {
     "name": "stdout",
     "output_type": "stream",
     "text": [
      "{'ResponseMetadata': {'RequestId': 'eb1644a9-6482-426a-a8b3-af1e023460fc', 'HTTPStatusCode': 200, 'HTTPHeaders': {'date': 'Sat, 11 Oct 2025 16:50:12 GMT', 'content-type': 'application/json', 'content-length': '1471', 'connection': 'keep-alive', 'x-amzn-requestid': 'eb1644a9-6482-426a-a8b3-af1e023460fc', 'x-amz-apigw-id': 'SSqepGGGIAMEBDQ=', 'x-amzn-trace-id': 'Root=1-68ea8ac3-6a32ee150b510e9e6255f643'}, 'RetryAttempts': 0}, 'agentActionGroup': {'agentId': 'UFSZYQKWFU', 'agentVersion': 'DRAFT', 'actionGroupId': '3SS4CGJGS1', 'actionGroupName': 'DataRetrievalActionGroup', 'description': 'Actions for retrieving game data of a specific player and creating a new League of Legends player profile.', 'createdAt': datetime.datetime(2025, 10, 11, 16, 50, 11, 884987, tzinfo=tzutc()), 'updatedAt': datetime.datetime(2025, 10, 11, 16, 50, 11, 884987, tzinfo=tzutc()), 'actionGroupExecutor': {'lambda': 'arn:aws:lambda:us-east-1:161242380044:function:lol-coach-agent-data-retrieval-lambda'}, 'functionSchema': {'functions': [{'name': 'get_player_data', 'description': 'Retrieve game data of a specific player', 'parameters': {'player_id': {'description': 'The unique identifier for the player', 'type': 'string', 'required': True}}, 'requireConfirmation': 'DISABLED'}, {'name': 'create_lol_player', 'description': 'Create a new League of Legends player profile', 'parameters': {'favorite_champion': {'description': 'The champion the player uses most frequently', 'type': 'string', 'required': True}, 'main_role': {'description': \"The player’s main role (e.g. 'Top', 'Jungle', 'Mid', 'ADC', 'Support')\", 'type': 'string', 'required': True}, 'rank': {'description': \"The current rank of the player (e.g. 'Gold IV', 'Diamond I')\", 'type': 'string', 'required': True}, 'player_name': {'description': 'The in-game name of the player', 'type': 'string', 'required': True}, 'region': {'description': \"The server region (e.g. 'NA', 'EUW', 'SG')\", 'type': 'string', 'required': True}}, 'requireConfirmation': 'DISABLED'}]}, 'actionGroupState': 'ENABLED'}}\n"
     ]
    }
   ],
   "source": [
    "agent_functions_for_data_retrieval = [\n",
    "    {\n",
    "        'name': 'get_player_data',\n",
    "        'description': 'Retrieve game data of a specific player',\n",
    "        'parameters': {\n",
    "            \"player_id\": {\n",
    "                \"description\": \"The unique identifier for the player\",\n",
    "                \"required\": True,\n",
    "                \"type\": \"string\"\n",
    "            }\n",
    "        }\n",
    "    },\n",
    "    {\n",
    "        'name': 'create_lol_player',\n",
    "        'description': 'Create a new League of Legends player profile',\n",
    "        'parameters': {\n",
    "            \"player_name\": {\n",
    "                \"description\": \"The in-game name of the player\",\n",
    "                \"required\": True,\n",
    "                \"type\": \"string\"\n",
    "            },\n",
    "            \"rank\": {\n",
    "                \"description\": \"The current rank of the player (e.g. 'Gold IV', 'Diamond I')\",\n",
    "                \"required\": True,\n",
    "                \"type\": \"string\"\n",
    "            },\n",
    "            \"region\": {\n",
    "                \"description\": \"The server region (e.g. 'NA', 'EUW', 'SG')\",\n",
    "                \"required\": True,\n",
    "                \"type\": \"string\"\n",
    "            },\n",
    "            \"main_role\": {\n",
    "                \"description\": \"The player’s main role (e.g. 'Top', 'Jungle', 'Mid', 'ADC', 'Support')\",\n",
    "                \"required\": True,\n",
    "                \"type\": \"string\"\n",
    "            },\n",
    "            \"favorite_champion\": {\n",
    "                \"description\": \"The champion the player uses most frequently\",\n",
    "                \"required\": True,\n",
    "                \"type\": \"string\"\n",
    "            }\n",
    "        }\n",
    "    }\n",
    "]\n",
    "\n",
    "# Pause to make sure agent is created\n",
    "time.sleep(30)\n",
    "\n",
    "# Now, we can configure and create an action group here:\n",
    "agent_data_retrieval_action_group_response = bedrock_agent_client.create_agent_action_group(\n",
    "    agentId=agent_id,\n",
    "    agentVersion='DRAFT',\n",
    "    actionGroupExecutor={\n",
    "        'lambda': data_retrieval_lambda_function['FunctionArn']\n",
    "    },\n",
    "    actionGroupName='DataRetrievalActionGroup',\n",
    "    functionSchema={\n",
    "        'functions': agent_functions_for_data_retrieval\n",
    "    },\n",
    "    description='Actions for retrieving game data of a specific player and creating a new League of Legends player profile.'\n",
    ")\n",
    "\n",
    "print(agent_data_retrieval_action_group_response)"
   ]
  },
  {
   "cell_type": "markdown",
   "id": "cbbfe783",
   "metadata": {},
   "source": [
    "## Allowing bedrock to invoke lambda function for Data retrieval Action Group"
   ]
  },
  {
   "cell_type": "code",
   "execution_count": 9,
   "id": "f56d5449",
   "metadata": {},
   "outputs": [
    {
     "name": "stdout",
     "output_type": "stream",
     "text": [
      "{'ResponseMetadata': {'RequestId': 'ebd82a34-c54b-4c2e-b3bc-e2b731bd0b3c', 'HTTPStatusCode': 201, 'HTTPHeaders': {'date': 'Sat, 11 Oct 2025 16:50:12 GMT', 'content-type': 'application/json', 'content-length': '376', 'connection': 'keep-alive', 'x-amzn-requestid': 'ebd82a34-c54b-4c2e-b3bc-e2b731bd0b3c'}, 'RetryAttempts': 0}, 'Statement': '{\"Sid\":\"allow_bedrock_UFSZYQKWFU\",\"Effect\":\"Allow\",\"Principal\":{\"Service\":\"bedrock.amazonaws.com\"},\"Action\":\"lambda:InvokeFunction\",\"Resource\":\"arn:aws:lambda:us-east-1:161242380044:function:lol-coach-agent-data-retrieval-lambda\",\"Condition\":{\"ArnLike\":{\"AWS:SourceArn\":\"arn:aws:bedrock:us-east-1:161242380044:agent/UFSZYQKWFU\"}}}'}\n"
     ]
    }
   ],
   "source": [
    "# Create allow to invoke permission on lambda\n",
    "data_retrieval_lambda_client = boto3.client('lambda')\n",
    "try:\n",
    "    response = data_retrieval_lambda_client.add_permission(\n",
    "        FunctionName=data_retrieval_lambda_function_name,\n",
    "        StatementId=f'allow_bedrock_{agent_id}',\n",
    "        Action='lambda:InvokeFunction',\n",
    "        Principal='bedrock.amazonaws.com',\n",
    "        SourceArn=f\"arn:aws:bedrock:{region}:{account_id}:agent/{agent_id}\",\n",
    "    )\n",
    "    print(response)\n",
    "except Exception as e:\n",
    "    print(e)"
   ]
  },
  {
   "cell_type": "markdown",
   "id": "e36f3f76",
   "metadata": {},
   "source": [
    "# Creating Lambda Function for Web search Action Group"
   ]
  },
  {
   "cell_type": "code",
   "execution_count": 10,
   "id": "88914770",
   "metadata": {},
   "outputs": [
    {
     "name": "stdout",
     "output_type": "stream",
     "text": [
      "Overwriting lambda_function.py\n"
     ]
    }
   ],
   "source": [
    "%%writefile lambda_function.py\n",
    "import http.client\n",
    "import json\n",
    "import logging\n",
    "import os\n",
    "import urllib.request\n",
    "\n",
    "log_level = os.environ.get(\"LOG_LEVEL\", \"INFO\").strip().upper()\n",
    "logging.basicConfig(format=\"[%(asctime)s] p%(process)s {%(filename)s:%(lineno)d} %(levelname)s - %(message)s\")\n",
    "logger = logging.getLogger(__name__)\n",
    "logger.setLevel(log_level)\n",
    "\n",
    "AWS_REGION = os.environ.get(\"AWS_REGION\", \"us-east-1\")\n",
    "ACTION_GROUP_NAME = \"WebSearchActionGroup\"\n",
    "FUNCTION_NAMES = [\"tavily-ai-search\", \"google-search\"]\n",
    "\n",
    "\n",
    "SERPER_API_KEY = os.environ.get(\"SERPER_API_KEY\")\n",
    "TAVILY_API_KEY = os.environ.get(\"TAVILY_API_KEY\")\n",
    "\n",
    "\n",
    "def extract_search_params(action_group, function, parameters):\n",
    "    if action_group != ACTION_GROUP_NAME:\n",
    "        logger.error(f\"unexpected name '{action_group}'; expected valid action group name '{ACTION_GROUP_NAME}'\")\n",
    "        return None, None\n",
    "\n",
    "    if function not in FUNCTION_NAMES:\n",
    "        logger.error(f\"unexpected function name '{function}'; valid function names are'{FUNCTION_NAMES}'\")\n",
    "        return None, None\n",
    "\n",
    "    search_query = next(\n",
    "        (param[\"value\"] for param in parameters if param[\"name\"] == \"search_query\"),\n",
    "        None,\n",
    "    )\n",
    "\n",
    "    target_website = next(\n",
    "        (param[\"value\"] for param in parameters if param[\"name\"] == \"target_website\"),\n",
    "        None,\n",
    "    )\n",
    "\n",
    "    logger.debug(f\"extract_search_params: {search_query=} {target_website=}\")\n",
    "\n",
    "    return search_query, target_website\n",
    "\n",
    "\n",
    "def google_search(search_query: str, target_website: str = \"\") -> str:\n",
    "    query = search_query\n",
    "    if target_website:\n",
    "        query += f\" site:{target_website}\"\n",
    "\n",
    "    conn = http.client.HTTPSConnection(\"google.serper.dev\")\n",
    "    payload = json.dumps({\"q\": query})\n",
    "    headers = {\"X-API-KEY\": SERPER_API_KEY, \"Content-Type\": \"application/json\"}\n",
    "\n",
    "    search_type = \"news\"  # \"news\", \"search\",\n",
    "    conn.request(\"POST\", f\"/{search_type}\", payload, headers)\n",
    "    res = conn.getresponse()\n",
    "    data = res.read()\n",
    "\n",
    "    return data.decode(\"utf-8\")\n",
    "\n",
    "\n",
    "def tavily_ai_search(search_query: str, target_website: str = \"\") -> str:\n",
    "    logger.info(f\"executing Tavily AI search with {search_query=}\")\n",
    "\n",
    "    base_url = \"https://api.tavily.com/search\"\n",
    "    headers = {\"Content-Type\": \"application/json\", \"Accept\": \"application/json\"}\n",
    "    payload = {\n",
    "        \"api_key\": TAVILY_API_KEY,\n",
    "        \"query\": search_query,\n",
    "        \"search_depth\": \"advanced\",\n",
    "        \"include_images\": False,\n",
    "        \"include_answer\": False,\n",
    "        \"include_raw_content\": False,\n",
    "        \"max_results\": 3,\n",
    "        \"include_domains\": [target_website] if target_website else [],\n",
    "        \"exclude_domains\": [],\n",
    "    }\n",
    "\n",
    "    data = json.dumps(payload).encode(\"utf-8\")\n",
    "    request = urllib.request.Request(base_url, data=data, headers=headers)  # nosec: B310 fixed url we want to open\n",
    "\n",
    "    try:\n",
    "        response = urllib.request.urlopen(request)  # nosec: B310 fixed url we want to open\n",
    "        response_data: str = response.read().decode(\"utf-8\")\n",
    "        logger.debug(f\"response from Tavily AI search {response_data=}\")\n",
    "        return response_data\n",
    "    except urllib.error.HTTPError as e:\n",
    "        logger.error(f\"failed to retrieve search results from Tavily AI Search, error: {e.code}\")\n",
    "\n",
    "    return \"\"\n",
    "\n",
    "\n",
    "def lambda_handler(event, _):  # type: ignore\n",
    "    logging.debug(f\"lambda_handler {event=}\")\n",
    "\n",
    "    action_group = event[\"actionGroup\"]\n",
    "    function = event[\"function\"]\n",
    "    parameters = event.get(\"parameters\", [])\n",
    "\n",
    "    logger.info(f\"lambda_handler: {action_group=} {function=}\")\n",
    "\n",
    "    search_query, target_website = extract_search_params(action_group, function, parameters)\n",
    "\n",
    "    search_results: str = \"\"\n",
    "    if function == \"tavily-ai-search\":\n",
    "        search_results = tavily_ai_search(search_query, target_website)\n",
    "    elif function == \"google-search\":\n",
    "        search_results = google_search(search_query, target_website)\n",
    "\n",
    "    logger.debug(f\"query results {search_results=}\")\n",
    "\n",
    "    # Prepare the response\n",
    "    function_response_body = {\"TEXT\": {\"body\": f\"Here are the top search results for the query '{search_query}': {search_results} \"}}\n",
    "\n",
    "    action_response = {\n",
    "        \"actionGroup\": action_group,\n",
    "        \"function\": function,\n",
    "        \"functionResponse\": {\"responseBody\": function_response_body},\n",
    "    }\n",
    "\n",
    "    response = {\"response\": action_response, \"messageVersion\": event[\"messageVersion\"]}\n",
    "\n",
    "    logger.debug(f\"lambda_handler: {response=}\")\n",
    "\n",
    "    return response"
   ]
  },
  {
   "cell_type": "code",
   "execution_count": 11,
   "id": "eb2e781b",
   "metadata": {},
   "outputs": [],
   "source": [
    "web_search_lambda_function_name = f'{agent_name}-web-search-lambda'\n",
    "web_search_lambda_function = create_lambda(web_search_lambda_function_name, lambda_iam_role)"
   ]
  },
  {
   "cell_type": "markdown",
   "id": "65f9f6ab",
   "metadata": {},
   "source": [
    "# Create Web search Action Group"
   ]
  },
  {
   "cell_type": "code",
   "execution_count": 12,
   "id": "a2d26926",
   "metadata": {},
   "outputs": [
    {
     "name": "stdout",
     "output_type": "stream",
     "text": [
      "{'ResponseMetadata': {'RequestId': '46a172b6-5493-45f4-b2ee-958009b9ff20', 'HTTPStatusCode': 200, 'HTTPHeaders': {'date': 'Sat, 11 Oct 2025 16:50:44 GMT', 'content-type': 'application/json', 'content-length': '1143', 'connection': 'keep-alive', 'x-amzn-requestid': '46a172b6-5493-45f4-b2ee-958009b9ff20', 'x-amz-apigw-id': 'SSqjqEURoAMEgNg=', 'x-amzn-trace-id': 'Root=1-68ea8ae3-0cfd973957c2c9874a9e24ca'}, 'RetryAttempts': 0}, 'agentActionGroup': {'agentId': 'UFSZYQKWFU', 'agentVersion': 'DRAFT', 'actionGroupId': 'OFXYDCOV2Y', 'actionGroupName': 'WebSearchActionGroup', 'description': 'Actions for web searching League of Legends related information.', 'createdAt': datetime.datetime(2025, 10, 11, 16, 50, 44, 30601, tzinfo=tzutc()), 'updatedAt': datetime.datetime(2025, 10, 11, 16, 50, 44, 30601, tzinfo=tzutc()), 'actionGroupExecutor': {'lambda': 'arn:aws:lambda:us-east-1:161242380044:function:lol-coach-agent-web-search-lambda'}, 'functionSchema': {'functions': [{'name': 'tavily-ai-search', 'description': '\\n            To retrieve information via the internet\\n            or for topics that the LLM does not know about and\\n            intense research is needed.\\n        ', 'parameters': {'search_query': {'description': 'The search query for the Tavily web search.', 'type': 'string', 'required': True}}, 'requireConfirmation': 'DISABLED'}, {'name': 'google-search', 'description': 'For targeted news, like \"What are the latest League of Legends updates?\" or similar.', 'parameters': {'search_query': {'description': 'The search query for the Google web search.', 'type': 'string', 'required': True}}, 'requireConfirmation': 'DISABLED'}]}, 'actionGroupState': 'ENABLED'}}\n"
     ]
    }
   ],
   "source": [
    "agent_functions_for_web_search = [\n",
    "    {\n",
    "        'name': 'tavily-ai-search',\n",
    "        'description': \"\"\"\n",
    "            To retrieve information via the internet\n",
    "            or for topics that the LLM does not know about and\n",
    "            intense research is needed.\n",
    "        \"\"\",\n",
    "        'parameters': {\n",
    "            \"search_query\": {\n",
    "                \"description\": \"The search query for the Tavily web search.\",\n",
    "                \"required\": True,\n",
    "                \"type\": \"string\"\n",
    "            }\n",
    "        }\n",
    "    },\n",
    "    {\n",
    "        'name': 'google-search',\n",
    "        'description': 'For targeted news, like \"What are the latest League of Legends updates?\" or similar.',\n",
    "        'parameters': {\n",
    "            \"search_query\": {\n",
    "                \"description\": \"The search query for the Google web search.\",\n",
    "                \"required\": True,\n",
    "                \"type\": \"string\"\n",
    "            }\n",
    "        }\n",
    "    }\n",
    "]\n",
    "\n",
    "# Pause to make sure agent is created\n",
    "time.sleep(30)\n",
    "\n",
    "# Now, we can configure and create an action group here:\n",
    "agent_web_search_action_group_response = bedrock_agent_client.create_agent_action_group(\n",
    "    agentId=agent_id,\n",
    "    agentVersion='DRAFT',\n",
    "    actionGroupExecutor={\n",
    "        'lambda': web_search_lambda_function['FunctionArn']\n",
    "    },\n",
    "    actionGroupName='WebSearchActionGroup',\n",
    "    functionSchema={\n",
    "        'functions': agent_functions_for_web_search\n",
    "    },\n",
    "    description='Actions for web searching League of Legends related information.'\n",
    ")\n",
    "\n",
    "print(agent_web_search_action_group_response)"
   ]
  },
  {
   "cell_type": "markdown",
   "id": "345bbd75",
   "metadata": {},
   "source": [
    "## Allowing bedrock to invoke lambda function for Web search Action Group"
   ]
  },
  {
   "cell_type": "code",
   "execution_count": 13,
   "id": "0fc8afbe",
   "metadata": {},
   "outputs": [
    {
     "name": "stdout",
     "output_type": "stream",
     "text": [
      "{'ResponseMetadata': {'RequestId': '5eab6265-3c97-441b-9693-e5fb23c362cf', 'HTTPStatusCode': 201, 'HTTPHeaders': {'date': 'Sat, 11 Oct 2025 16:50:45 GMT', 'content-type': 'application/json', 'content-length': '372', 'connection': 'keep-alive', 'x-amzn-requestid': '5eab6265-3c97-441b-9693-e5fb23c362cf'}, 'RetryAttempts': 0}, 'Statement': '{\"Sid\":\"allow_bedrock_UFSZYQKWFU\",\"Effect\":\"Allow\",\"Principal\":{\"Service\":\"bedrock.amazonaws.com\"},\"Action\":\"lambda:InvokeFunction\",\"Resource\":\"arn:aws:lambda:us-east-1:161242380044:function:lol-coach-agent-web-search-lambda\",\"Condition\":{\"ArnLike\":{\"AWS:SourceArn\":\"arn:aws:bedrock:us-east-1:161242380044:agent/UFSZYQKWFU\"}}}'}\n"
     ]
    }
   ],
   "source": [
    "# Create allow to invoke permission on lambda\n",
    "web_search_lambda_client = boto3.client('lambda')\n",
    "try:\n",
    "    response = web_search_lambda_client.add_permission(\n",
    "        FunctionName=web_search_lambda_function_name,\n",
    "        StatementId=f'allow_bedrock_{agent_id}',\n",
    "        Action='lambda:InvokeFunction',\n",
    "        Principal='bedrock.amazonaws.com',\n",
    "        SourceArn=f\"arn:aws:bedrock:{region}:{account_id}:agent/{agent_id}\",\n",
    "    )\n",
    "    print(response)\n",
    "except Exception as e:\n",
    "    print(e)"
   ]
  },
  {
   "cell_type": "markdown",
   "id": "8cad19b7",
   "metadata": {},
   "source": [
    "## Preparing agent"
   ]
  },
  {
   "cell_type": "code",
   "execution_count": 14,
   "id": "8cbf9b32",
   "metadata": {},
   "outputs": [
    {
     "name": "stdout",
     "output_type": "stream",
     "text": [
      "{'ResponseMetadata': {'RequestId': 'e7ad2a7e-9319-4ddc-9347-6548683b3f81', 'HTTPStatusCode': 202, 'HTTPHeaders': {'date': 'Sat, 11 Oct 2025 16:50:45 GMT', 'content-type': 'application/json', 'content-length': '119', 'connection': 'keep-alive', 'x-amzn-requestid': 'e7ad2a7e-9319-4ddc-9347-6548683b3f81', 'x-amz-apigw-id': 'SSqj6EMYIAMEguA=', 'x-amzn-trace-id': 'Root=1-68ea8ae5-1b0256635f5259b5666bcb86'}, 'RetryAttempts': 0}, 'agentId': 'UFSZYQKWFU', 'agentStatus': 'PREPARING', 'agentVersion': 'DRAFT', 'preparedAt': datetime.datetime(2025, 10, 11, 16, 50, 45, 723184, tzinfo=tzutc())}\n"
     ]
    }
   ],
   "source": [
    "response = bedrock_agent_client.prepare_agent(\n",
    "    agentId=agent_id\n",
    ")\n",
    "print(response)\n",
    "# Pause to make sure agent is prepared\n",
    "time.sleep(30)"
   ]
  },
  {
   "cell_type": "markdown",
   "id": "756078ba",
   "metadata": {},
   "source": [
    "# Invoking Agent"
   ]
  },
  {
   "cell_type": "code",
   "execution_count": 15,
   "id": "108dba37",
   "metadata": {},
   "outputs": [],
   "source": [
    "alias_id = 'TSTALIASID'"
   ]
  },
  {
   "cell_type": "code",
   "execution_count": 16,
   "id": "483d9d7b",
   "metadata": {},
   "outputs": [
    {
     "data": {
      "text/plain": [
       "'\\n%%time\\nsession_id:str = str(uuid.uuid1())\\nquery = \"I want to create a new League of Legends player profile for a user named “ShadowFox”, ranked Diamond I, playing in the Singapore server, main role Mid, and favorite champion Yasuo.\"\\nresponse = invoke_agent_helper(query, session_id, agent_id, alias_id)\\nprint(response)\\n'"
      ]
     },
     "execution_count": 16,
     "metadata": {},
     "output_type": "execute_result"
    }
   ],
   "source": [
    "\"\"\"\n",
    "%%time\n",
    "session_id:str = str(uuid.uuid1())\n",
    "query = \"I want to create a new League of Legends player profile for a user named “ShadowFox”, ranked Diamond I, playing in the Singapore server, main role Mid, and favorite champion Yasuo.\"\n",
    "response = invoke_agent_helper(query, session_id, agent_id, alias_id)\n",
    "print(response)\n",
    "\"\"\""
   ]
  },
  {
   "cell_type": "code",
   "execution_count": 17,
   "id": "eaa7d6a7",
   "metadata": {},
   "outputs": [
    {
     "name": "stdout",
     "output_type": "stream",
     "text": [
      "The favorite champion for the player with ID '5130f179' is Yasuo.\n",
      "CPU times: user 27.9 ms, sys: 4.75 ms, total: 32.6 ms\n",
      "Wall time: 5.54 s\n"
     ]
    }
   ],
   "source": [
    "%%time\n",
    "session_id:str = str(uuid.uuid1())\n",
    "query = \"I want to retrieve the favorite champion for the player with the id '5130f179'.\"\n",
    "response = invoke_agent_helper(query, session_id, agent_id, alias_id)\n",
    "print(response)"
   ]
  },
  {
   "cell_type": "code",
   "execution_count": 19,
   "id": "fe8c1867",
   "metadata": {},
   "outputs": [
    {
     "name": "stdout",
     "output_type": "stream",
     "text": [
      "The latest League of Legends updates include:\n",
      "\n",
      "- Patch 15.20 with balance changes, new skins, and Worlds 2025 preparations\n",
      "- New \"2XKO\" themed content for Teamfight Tactics\n",
      "- Ongoing patches like 25.19 and 25.21 making balance adjustments for Worlds 2025\n",
      "- Previews of major changes coming in Season 3, set in the year 2025\n",
      "\n",
      "The patches are focused on getting League of Legends ready for the upcoming 2025 World Championship tournament, while also introducing new gameplay content and cosmetics.\n",
      "CPU times: user 29.3 ms, sys: 11.9 ms, total: 41.2 ms\n",
      "Wall time: 23 s\n"
     ]
    }
   ],
   "source": [
    "%%time\n",
    "session_id:str = str(uuid.uuid1())\n",
    "query = \"What are the latest updates in League of Legends?\"\n",
    "response = invoke_agent_helper(query, session_id, agent_id, alias_id)\n",
    "print(response)"
   ]
  },
  {
   "cell_type": "code",
   "execution_count": 20,
   "id": "25357484",
   "metadata": {},
   "outputs": [
    {
     "name": "stdout",
     "output_type": "stream",
     "text": [
      "Stored 'agent_role' (dict)\n"
     ]
    }
   ],
   "source": [
    "%store agent_role"
   ]
  }
 ],
 "metadata": {
  "kernelspec": {
   "display_name": "base",
   "language": "python",
   "name": "python3"
  },
  "language_info": {
   "codemirror_mode": {
    "name": "ipython",
    "version": 3
   },
   "file_extension": ".py",
   "mimetype": "text/x-python",
   "name": "python",
   "nbconvert_exporter": "python",
   "pygments_lexer": "ipython3",
   "version": "3.12.7"
  }
 },
 "nbformat": 4,
 "nbformat_minor": 5
}
