{
 "cells": [
  {
   "cell_type": "markdown",
   "id": "8a8415e3",
   "metadata": {},
   "source": [
    "# Setup"
   ]
  },
  {
   "cell_type": "code",
   "execution_count": 1,
   "id": "62f9f755",
   "metadata": {},
   "outputs": [
    {
     "data": {
      "text/plain": [
       "('us-east-1', '161242380044')"
      ]
     },
     "execution_count": 1,
     "metadata": {},
     "output_type": "execute_result"
    }
   ],
   "source": [
    "import time\n",
    "import boto3\n",
    "import logging\n",
    "import ipywidgets as widgets\n",
    "import uuid\n",
    "\n",
    "from agent import create_agent_role, create_lambda_role\n",
    "from agent import create_dynamodb, create_lambda, invoke_agent_helper\n",
    "\n",
    "## Clients\n",
    "s3_client = boto3.client('s3')\n",
    "sts_client = boto3.client('sts')\n",
    "session = boto3.session.Session()\n",
    "region = session.region_name\n",
    "account_id = sts_client.get_caller_identity()[\"Account\"]\n",
    "bedrock_agent_client = boto3.client('bedrock-agent')\n",
    "bedrock_agent_runtime_client = boto3.client('bedrock-agent-runtime')\n",
    "logging.basicConfig(format='[%(asctime)s] p%(process)s {%(filename)s:%(lineno)d} %(levelname)s - %(message)s', level=logging.INFO)\n",
    "logger = logging.getLogger(__name__)\n",
    "region, account_id"
   ]
  },
  {
   "cell_type": "markdown",
   "id": "832be1ba",
   "metadata": {},
   "source": [
    "# Setting up Agent's information"
   ]
  },
  {
   "cell_type": "code",
   "execution_count": 2,
   "id": "891bb4d1",
   "metadata": {},
   "outputs": [],
   "source": [
    "suffix = f\"{region}-{account_id}\"\n",
    "agent_name = 'lol-coach-agent'\n",
    "agent_bedrock_allow_policy_name = f\"{agent_name}-ba\"\n",
    "agent_role_name = f'AmazonBedrockExecutionRoleForAgents_{agent_name}'\n",
    "\n",
    "agent_description = \"Agent in charge of player data\"\n",
    "agent_instruction = \"\"\"\n",
    "You are an expert League of Legends coach agent, helping players retrieve game data and create a new League of Legends player profile.\n",
    "\"\"\"\n",
    "\n",
    "agent_action_group_description = \"\"\"\n",
    "Actions for retrieving game data of a specific player and creating a new League of Legends player profile.\n",
    "\"\"\"\n",
    "\n",
    "agent_action_group_name = \"DataRetrievalActionGroup\""
   ]
  },
  {
   "cell_type": "markdown",
   "id": "07789f65",
   "metadata": {},
   "source": [
    "# Select Foundation Model"
   ]
  },
  {
   "cell_type": "code",
   "execution_count": 3,
   "id": "131898db",
   "metadata": {},
   "outputs": [
    {
     "name": "stdout",
     "output_type": "stream",
     "text": [
      "Dropdown(description='FM:', options=(('Claude 3 Sonnet', 'anthropic.claude-3-sonnet-20240229-v1:0'), ('Claude 3 Haiku', 'anthropic.claude-3-haiku-20240307-v1:0')), value='anthropic.claude-3-sonnet-20240229-v1:0')\n",
      "anthropic.claude-3-sonnet-20240229-v1:0\n"
     ]
    }
   ],
   "source": [
    "agent_foundation_model_selector = widgets.Dropdown(\n",
    "    options=[\n",
    "        ('Claude 3 Sonnet', 'anthropic.claude-3-sonnet-20240229-v1:0'),\n",
    "        ('Claude 3 Haiku', 'anthropic.claude-3-haiku-20240307-v1:0')\n",
    "    ],\n",
    "    value='anthropic.claude-3-sonnet-20240229-v1:0',\n",
    "    description='FM:',\n",
    "    disabled=False,\n",
    ")\n",
    "print(agent_foundation_model_selector)\n",
    "\n",
    "agent_foundation_model = agent_foundation_model_selector.value\n",
    "print(agent_foundation_model)"
   ]
  },
  {
   "cell_type": "markdown",
   "id": "e33493b5",
   "metadata": {},
   "source": [
    "# Creating DynamoDB Table"
   ]
  },
  {
   "cell_type": "code",
   "execution_count": 4,
   "id": "fea85fed",
   "metadata": {},
   "outputs": [
    {
     "name": "stdout",
     "output_type": "stream",
     "text": [
      "Creating table player_data...\n",
      "Table player_data created successfully!\n"
     ]
    }
   ],
   "source": [
    "table_name = 'player_data'\n",
    "create_dynamodb(table_name)"
   ]
  },
  {
   "cell_type": "markdown",
   "id": "edb16b46",
   "metadata": {},
   "source": [
    "# Creating Lambda Function"
   ]
  },
  {
   "cell_type": "code",
   "execution_count": 5,
   "id": "07436b28",
   "metadata": {},
   "outputs": [
    {
     "name": "stdout",
     "output_type": "stream",
     "text": [
      "Overwriting lambda_function.py\n"
     ]
    }
   ],
   "source": [
    "%%writefile lambda_function.py\n",
    "import json\n",
    "import uuid\n",
    "import boto3\n",
    "\n",
    "dynamodb = boto3.resource('dynamodb')\n",
    "table = dynamodb.Table('player_data')\n",
    "\n",
    "def get_named_parameter(event, name):\n",
    "    \"\"\"\n",
    "    Get a parameter from the lambda event\n",
    "    \"\"\"\n",
    "    return next(item for item in event['parameters'] if item['name'] == name)['value']\n",
    "\n",
    "def get_player_data(player_id):\n",
    "    \"\"\"\n",
    "    Retrieve game data of a specific player\n",
    "    \n",
    "    Args:\n",
    "        player_id (string): The unique identifier for the player.\n",
    "    \"\"\"\n",
    "    try:\n",
    "        response = table.get_item(Key={'player_id': player_id})\n",
    "        if 'Item' in response:\n",
    "            return response['Item']\n",
    "        else:\n",
    "            return {'message': f'No data found with ID {player_id}'}\n",
    "    except Exception as e:\n",
    "        return {'error': str(e)}\n",
    "    \n",
    "def create_lol_player(player_name, rank, region, main_role, favorite_champion):\n",
    "    \"\"\"\n",
    "    Create a new League of Legends player profile.\n",
    "    \n",
    "    Args:\n",
    "        player_name (string): The in-game name of the player.\n",
    "        rank (string): The current rank of the player (e.g. 'Gold IV', 'Diamond I').\n",
    "        region (string): The server region (e.g. 'NA', 'EUW', 'SG').\n",
    "        main_role (string): The player’s main role (e.g. 'Top', 'Jungle', 'Mid', 'ADC', 'Support').\n",
    "        favorite_champion (string): The champion the player uses most frequently.\n",
    "    \"\"\"\n",
    "    try:\n",
    "        player_id = str(uuid.uuid4())[:8]\n",
    "        table.put_item(\n",
    "            Item={\n",
    "                'player_id': player_id,\n",
    "                'player_name': player_name,\n",
    "                'rank': rank,\n",
    "                'region': region,\n",
    "                'main_role': main_role,\n",
    "                'favorite_champion': favorite_champion\n",
    "            }\n",
    "        )\n",
    "        return {'player_id': player_id}\n",
    "    except Exception as e:\n",
    "        return {'error': str(e)}\n",
    "    \n",
    "def lambda_handler(event, context):\n",
    "    # get the action group used during the invocation of the lambda function\n",
    "    actionGroup = event.get('actionGroup', '')\n",
    "    \n",
    "    # name of the function that should be invoked\n",
    "    function = event.get('function', '')\n",
    "    \n",
    "    # parameters to invoke function with\n",
    "    parameters = event.get('parameters', [])\n",
    "\n",
    "    if function == 'get_player_data':\n",
    "        player_id = get_named_parameter(event, \"player_id\")\n",
    "        if player_id:\n",
    "            response = str(get_player_data(player_id))\n",
    "            responseBody = {'TEXT': {'body': json.dumps(response)}}\n",
    "        else:\n",
    "            responseBody = {'TEXT': {'body': 'Missing player_id parameter'}}\n",
    "    \n",
    "    elif function == 'create_lol_player':\n",
    "        player_name = get_named_parameter(event, \"player_name\")\n",
    "        rank = get_named_parameter(event, \"rank\")\n",
    "        region = get_named_parameter(event, \"region\")\n",
    "        main_role = get_named_parameter(event, \"main_role\")\n",
    "        favorite_champion = get_named_parameter(event, \"favorite_champion\")\n",
    "        \n",
    "        if all([player_name, rank, region, main_role, favorite_champion]):\n",
    "            response = str(create_lol_player(player_name, rank, region, main_role, favorite_champion))\n",
    "            responseBody = {'TEXT': {'body': json.dumps(response)}}\n",
    "        else:\n",
    "            responseBody = {'TEXT': {'body': 'Missing required parameters'}}\n",
    "\n",
    "    else:\n",
    "        responseBody = {'TEXT': {'body': 'Invalid function'}}\n",
    "\n",
    "    action_response = {\n",
    "        'actionGroup': actionGroup,\n",
    "        'function': function,\n",
    "        'functionResponse': {\n",
    "            'responseBody': responseBody\n",
    "        }\n",
    "    }\n",
    "\n",
    "    function_response = {'response': action_response, 'messageVersion': event['messageVersion']}\n",
    "    print(\"Response: {}\".format(function_response))\n",
    "\n",
    "    return function_response"
   ]
  },
  {
   "cell_type": "code",
   "execution_count": 6,
   "id": "c966a5f8",
   "metadata": {},
   "outputs": [],
   "source": [
    "lambda_iam_role = create_lambda_role(agent_name, table_name)\n",
    "lambda_function_name = f'{agent_name}-lambda'\n",
    "lambda_function = create_lambda(lambda_function_name, lambda_iam_role)"
   ]
  },
  {
   "cell_type": "markdown",
   "id": "0a11dbfd",
   "metadata": {},
   "source": [
    "# Creating Agent"
   ]
  },
  {
   "cell_type": "code",
   "execution_count": 7,
   "id": "7b57df21",
   "metadata": {},
   "outputs": [
    {
     "name": "stdout",
     "output_type": "stream",
     "text": [
      "{'Role': {'Path': '/', 'RoleName': 'AmazonBedrockExecutionRoleForAgents_lol-coach-agent', 'RoleId': 'AROASLCWLO4GENFDXKKU4', 'Arn': 'arn:aws:iam::161242380044:role/AmazonBedrockExecutionRoleForAgents_lol-coach-agent', 'CreateDate': datetime.datetime(2025, 10, 11, 7, 32, 46, tzinfo=tzutc()), 'AssumeRolePolicyDocument': {'Version': '2012-10-17', 'Statement': [{'Effect': 'Allow', 'Principal': {'Service': 'bedrock.amazonaws.com'}, 'Action': 'sts:AssumeRole'}]}, 'MaxSessionDuration': 3600, 'RoleLastUsed': {'LastUsedDate': datetime.datetime(2025, 10, 11, 13, 36, 23, tzinfo=tzutc()), 'Region': 'us-east-1'}}, 'ResponseMetadata': {'RequestId': '8da55512-9404-4bd1-bdbd-5f8ef42231a2', 'HTTPStatusCode': 200, 'HTTPHeaders': {'date': 'Sat, 11 Oct 2025 13:55:51 GMT', 'x-amzn-requestid': '8da55512-9404-4bd1-bdbd-5f8ef42231a2', 'content-type': 'text/xml', 'content-length': '1006'}, 'RetryAttempts': 0}}\n",
      "{'ResponseMetadata': {'RequestId': '43c39ffd-62ad-46f9-b667-e36c4aedb763', 'HTTPStatusCode': 202, 'HTTPHeaders': {'date': 'Sat, 11 Oct 2025 13:55:52 GMT', 'content-type': 'application/json', 'content-length': '711', 'connection': 'keep-alive', 'x-amzn-requestid': '43c39ffd-62ad-46f9-b667-e36c4aedb763', 'x-amz-apigw-id': 'SSQ8WET2IAMErhQ=', 'x-amzn-trace-id': 'Root=1-68ea61e8-7ce4a0be750388783de2dd3c'}, 'RetryAttempts': 0}, 'agent': {'agentId': 'OY84EPHPDS', 'agentName': 'lol-coach-agent', 'agentArn': 'arn:aws:bedrock:us-east-1:161242380044:agent/OY84EPHPDS', 'instruction': '\\nYou are an expert League of Legends coach agent, helping players retrieve game data and create a new League of Legends player profile.\\n', 'agentStatus': 'CREATING', 'foundationModel': 'anthropic.claude-3-sonnet-20240229-v1:0', 'description': 'Agent in charge of player data', 'orchestrationType': 'DEFAULT', 'idleSessionTTLInSeconds': 1800, 'agentResourceRoleArn': 'arn:aws:iam::161242380044:role/AmazonBedrockExecutionRoleForAgents_lol-coach-agent', 'createdAt': datetime.datetime(2025, 10, 11, 13, 55, 52, 343439, tzinfo=tzutc()), 'updatedAt': datetime.datetime(2025, 10, 11, 13, 55, 52, 343439, tzinfo=tzutc()), 'agentCollaboration': 'DISABLED'}}\n",
      "The agent id is: OY84EPHPDS\n"
     ]
    }
   ],
   "source": [
    "agent_role = create_agent_role(agent_name, agent_foundation_model)\n",
    "print(agent_role)\n",
    "\n",
    "response = bedrock_agent_client.create_agent(\n",
    "    agentName=agent_name,\n",
    "    agentResourceRoleArn=agent_role['Role']['Arn'],\n",
    "    description=agent_description,\n",
    "    idleSessionTTLInSeconds=1800,\n",
    "    foundationModel=agent_foundation_model,\n",
    "    instruction=agent_instruction,\n",
    ")\n",
    "print(response)\n",
    "\n",
    "agent_id = response['agent']['agentId']\n",
    "print(\"The agent id is:\",agent_id)"
   ]
  },
  {
   "cell_type": "markdown",
   "id": "4494558b",
   "metadata": {},
   "source": [
    "# Create Agent Action Group"
   ]
  },
  {
   "cell_type": "code",
   "execution_count": 8,
   "id": "48b551af",
   "metadata": {},
   "outputs": [
    {
     "name": "stdout",
     "output_type": "stream",
     "text": [
      "{'ResponseMetadata': {'RequestId': '65033011-b6e7-48eb-a1ac-1afcd9891bb0', 'HTTPStatusCode': 200, 'HTTPHeaders': {'date': 'Sat, 11 Oct 2025 13:56:23 GMT', 'content-type': 'application/json', 'content-length': '1460', 'connection': 'keep-alive', 'x-amzn-requestid': '65033011-b6e7-48eb-a1ac-1afcd9891bb0', 'x-amz-apigw-id': 'SSRBHH2KoAMEWZQ=', 'x-amzn-trace-id': 'Root=1-68ea6206-041b0252702768d125569a52'}, 'RetryAttempts': 0}, 'agentActionGroup': {'agentId': 'OY84EPHPDS', 'agentVersion': 'DRAFT', 'actionGroupId': 'MAGRSZPJ3U', 'actionGroupName': 'DataRetrievalActionGroup', 'description': '\\nActions for retrieving game data of a specific player and creating a new League of Legends player profile.\\n', 'createdAt': datetime.datetime(2025, 10, 11, 13, 56, 22, 929705, tzinfo=tzutc()), 'updatedAt': datetime.datetime(2025, 10, 11, 13, 56, 22, 929705, tzinfo=tzutc()), 'actionGroupExecutor': {'lambda': 'arn:aws:lambda:us-east-1:161242380044:function:lol-coach-agent-lambda'}, 'functionSchema': {'functions': [{'name': 'get_player_data', 'description': 'Retrieve game data of a specific player', 'parameters': {'player_id': {'description': 'The unique identifier for the player', 'type': 'string', 'required': True}}, 'requireConfirmation': 'DISABLED'}, {'name': 'create_lol_player', 'description': 'Create a new League of Legends player profile', 'parameters': {'favorite_champion': {'description': 'The champion the player uses most frequently', 'type': 'string', 'required': True}, 'main_role': {'description': \"The player’s main role (e.g. 'Top', 'Jungle', 'Mid', 'ADC', 'Support')\", 'type': 'string', 'required': True}, 'rank': {'description': \"The current rank of the player (e.g. 'Gold IV', 'Diamond I')\", 'type': 'string', 'required': True}, 'player_name': {'description': 'The in-game name of the player', 'type': 'string', 'required': True}, 'region': {'description': \"The server region (e.g. 'NA', 'EUW', 'SG')\", 'type': 'string', 'required': True}}, 'requireConfirmation': 'DISABLED'}]}, 'actionGroupState': 'ENABLED'}}\n"
     ]
    }
   ],
   "source": [
    "agent_functions = [\n",
    "    {\n",
    "        'name': 'get_player_data',\n",
    "        'description': 'Retrieve game data of a specific player',\n",
    "        'parameters': {\n",
    "            \"player_id\": {\n",
    "                \"description\": \"The unique identifier for the player\",\n",
    "                \"required\": True,\n",
    "                \"type\": \"string\"\n",
    "            }\n",
    "        }\n",
    "    },\n",
    "    {\n",
    "        'name': 'create_lol_player',\n",
    "        'description': 'Create a new League of Legends player profile',\n",
    "        'parameters': {\n",
    "            \"player_name\": {\n",
    "                \"description\": \"The in-game name of the player\",\n",
    "                \"required\": True,\n",
    "                \"type\": \"string\"\n",
    "            },\n",
    "            \"rank\": {\n",
    "                \"description\": \"The current rank of the player (e.g. 'Gold IV', 'Diamond I')\",\n",
    "                \"required\": True,\n",
    "                \"type\": \"string\"\n",
    "            },\n",
    "            \"region\": {\n",
    "                \"description\": \"The server region (e.g. 'NA', 'EUW', 'SG')\",\n",
    "                \"required\": True,\n",
    "                \"type\": \"string\"\n",
    "            },\n",
    "            \"main_role\": {\n",
    "                \"description\": \"The player’s main role (e.g. 'Top', 'Jungle', 'Mid', 'ADC', 'Support')\",\n",
    "                \"required\": True,\n",
    "                \"type\": \"string\"\n",
    "            },\n",
    "            \"favorite_champion\": {\n",
    "                \"description\": \"The champion the player uses most frequently\",\n",
    "                \"required\": True,\n",
    "                \"type\": \"string\"\n",
    "            }\n",
    "        }\n",
    "    }\n",
    "]\n",
    "\n",
    "# Pause to make sure agent is created\n",
    "time.sleep(30)\n",
    "\n",
    "# Now, we can configure and create an action group here:\n",
    "agent_action_group_response = bedrock_agent_client.create_agent_action_group(\n",
    "    agentId=agent_id,\n",
    "    agentVersion='DRAFT',\n",
    "    actionGroupExecutor={\n",
    "        'lambda': lambda_function['FunctionArn']\n",
    "    },\n",
    "    actionGroupName=agent_action_group_name,\n",
    "    functionSchema={\n",
    "        'functions': agent_functions\n",
    "    },\n",
    "    description=agent_action_group_description\n",
    ")\n",
    "\n",
    "print(agent_action_group_response)"
   ]
  },
  {
   "cell_type": "markdown",
   "id": "cbbfe783",
   "metadata": {},
   "source": [
    "## Allowing bedrock to invoke lambda function"
   ]
  },
  {
   "cell_type": "code",
   "execution_count": 9,
   "id": "f56d5449",
   "metadata": {},
   "outputs": [
    {
     "name": "stdout",
     "output_type": "stream",
     "text": [
      "{'ResponseMetadata': {'RequestId': '801a5b23-aa11-4080-9a4b-d88e6d6fa53c', 'HTTPStatusCode': 201, 'HTTPHeaders': {'date': 'Sat, 11 Oct 2025 13:56:23 GMT', 'content-type': 'application/json', 'content-length': '361', 'connection': 'keep-alive', 'x-amzn-requestid': '801a5b23-aa11-4080-9a4b-d88e6d6fa53c'}, 'RetryAttempts': 0}, 'Statement': '{\"Sid\":\"allow_bedrock_OY84EPHPDS\",\"Effect\":\"Allow\",\"Principal\":{\"Service\":\"bedrock.amazonaws.com\"},\"Action\":\"lambda:InvokeFunction\",\"Resource\":\"arn:aws:lambda:us-east-1:161242380044:function:lol-coach-agent-lambda\",\"Condition\":{\"ArnLike\":{\"AWS:SourceArn\":\"arn:aws:bedrock:us-east-1:161242380044:agent/OY84EPHPDS\"}}}'}\n"
     ]
    }
   ],
   "source": [
    "# Create allow to invoke permission on lambda\n",
    "lambda_client = boto3.client('lambda')\n",
    "try:\n",
    "    response = lambda_client.add_permission(\n",
    "        FunctionName=lambda_function_name,\n",
    "        StatementId=f'allow_bedrock_{agent_id}',\n",
    "        Action='lambda:InvokeFunction',\n",
    "        Principal='bedrock.amazonaws.com',\n",
    "        SourceArn=f\"arn:aws:bedrock:{region}:{account_id}:agent/{agent_id}\",\n",
    "    )\n",
    "    print(response)\n",
    "except Exception as e:\n",
    "    print(e)"
   ]
  },
  {
   "cell_type": "markdown",
   "id": "8cad19b7",
   "metadata": {},
   "source": [
    "## Preparing agent"
   ]
  },
  {
   "cell_type": "code",
   "execution_count": 10,
   "id": "8cbf9b32",
   "metadata": {},
   "outputs": [
    {
     "name": "stdout",
     "output_type": "stream",
     "text": [
      "{'ResponseMetadata': {'RequestId': '81df7c21-4cff-4b13-944a-868b906669db', 'HTTPStatusCode': 202, 'HTTPHeaders': {'date': 'Sat, 11 Oct 2025 13:56:24 GMT', 'content-type': 'application/json', 'content-length': '119', 'connection': 'keep-alive', 'x-amzn-requestid': '81df7c21-4cff-4b13-944a-868b906669db', 'x-amz-apigw-id': 'SSRBZERZoAMEZSw=', 'x-amzn-trace-id': 'Root=1-68ea6208-20308aa8279642c15911a0b4'}, 'RetryAttempts': 0}, 'agentId': 'OY84EPHPDS', 'agentStatus': 'PREPARING', 'agentVersion': 'DRAFT', 'preparedAt': datetime.datetime(2025, 10, 11, 13, 56, 24, 832545, tzinfo=tzutc())}\n"
     ]
    }
   ],
   "source": [
    "response = bedrock_agent_client.prepare_agent(\n",
    "    agentId=agent_id\n",
    ")\n",
    "print(response)\n",
    "# Pause to make sure agent is prepared\n",
    "time.sleep(30)"
   ]
  },
  {
   "cell_type": "markdown",
   "id": "756078ba",
   "metadata": {},
   "source": [
    "# Invoking Agent"
   ]
  },
  {
   "cell_type": "code",
   "execution_count": 11,
   "id": "108dba37",
   "metadata": {},
   "outputs": [],
   "source": [
    "alias_id = 'TSTALIASID'"
   ]
  },
  {
   "cell_type": "code",
   "execution_count": 12,
   "id": "483d9d7b",
   "metadata": {},
   "outputs": [
    {
     "name": "stdout",
     "output_type": "stream",
     "text": [
      "The new League of Legends player profile has been successfully created with the following details:\n",
      "\n",
      "Player Name: ShadowFox\n",
      "Rank: Diamond I  \n",
      "Server Region: SG (Singapore)\n",
      "Main Role: Mid\n",
      "Favorite Champion: Yasuo\n",
      "Player ID: cb0a7d83\n",
      "CPU times: user 32.5 ms, sys: 4.29 ms, total: 36.8 ms\n",
      "Wall time: 10.1 s\n"
     ]
    }
   ],
   "source": [
    "%%time\n",
    "session_id:str = str(uuid.uuid1())\n",
    "query = \"I want to create a new League of Legends player profile for a user named “ShadowFox”, ranked Diamond I, playing in the Singapore server, main role Mid, and favorite champion Yasuo.\"\n",
    "response = invoke_agent_helper(query, session_id, agent_id, alias_id)\n",
    "print(response)"
   ]
  },
  {
   "cell_type": "code",
   "execution_count": 15,
   "id": "eaa7d6a7",
   "metadata": {},
   "outputs": [
    {
     "name": "stdout",
     "output_type": "stream",
     "text": [
      "The favorite champion for the player with id '5130f179' is Yasuo.\n",
      "CPU times: user 27.3 ms, sys: 4.37 ms, total: 31.7 ms\n",
      "Wall time: 5.77 s\n"
     ]
    }
   ],
   "source": [
    "%%time\n",
    "session_id:str = str(uuid.uuid1())\n",
    "query = \"I want to retrieve the favorite champion for the player with the id '5130f179'.\"\n",
    "response = invoke_agent_helper(query, session_id, agent_id, alias_id)\n",
    "print(response)"
   ]
  }
 ],
 "metadata": {
  "kernelspec": {
   "display_name": "base",
   "language": "python",
   "name": "python3"
  },
  "language_info": {
   "codemirror_mode": {
    "name": "ipython",
    "version": 3
   },
   "file_extension": ".py",
   "mimetype": "text/x-python",
   "name": "python",
   "nbconvert_exporter": "python",
   "pygments_lexer": "ipython3",
   "version": "3.12.7"
  }
 },
 "nbformat": 4,
 "nbformat_minor": 5
}
