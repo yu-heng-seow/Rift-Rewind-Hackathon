{
 "cells": [
  {
   "cell_type": "code",
   "execution_count": 19,
   "id": "e2711518",
   "metadata": {},
   "outputs": [],
   "source": [
    "%store -r"
   ]
  },
  {
   "cell_type": "code",
   "execution_count": 20,
   "id": "bcb70ad7",
   "metadata": {},
   "outputs": [
    {
     "data": {
      "text/plain": [
       "{'Role': {'Path': '/',\n",
       "  'RoleName': 'AmazonBedrockExecutionRoleForAgents_lol-coach-agent',\n",
       "  'RoleId': 'AROASLCWLO4GENFDXKKU4',\n",
       "  'Arn': 'arn:aws:iam::161242380044:role/AmazonBedrockExecutionRoleForAgents_lol-coach-agent',\n",
       "  'CreateDate': datetime.datetime(2025, 10, 11, 7, 32, 46, tzinfo=tzutc()),\n",
       "  'AssumeRolePolicyDocument': {'Version': '2012-10-17',\n",
       "   'Statement': [{'Effect': 'Allow',\n",
       "     'Principal': {'Service': 'bedrock.amazonaws.com'},\n",
       "     'Action': 'sts:AssumeRole'}]},\n",
       "  'MaxSessionDuration': 3600,\n",
       "  'RoleLastUsed': {'LastUsedDate': datetime.datetime(2025, 10, 11, 16, 38, 24, tzinfo=tzutc()),\n",
       "   'Region': 'us-east-1'}},\n",
       " 'ResponseMetadata': {'RequestId': '25e512ea-cadb-4c90-a3fa-a8e82486c620',\n",
       "  'HTTPStatusCode': 200,\n",
       "  'HTTPHeaders': {'date': 'Sat, 11 Oct 2025 16:49:37 GMT',\n",
       "   'x-amzn-requestid': '25e512ea-cadb-4c90-a3fa-a8e82486c620',\n",
       "   'content-type': 'text/xml',\n",
       "   'content-length': '1006'},\n",
       "  'RetryAttempts': 0}}"
      ]
     },
     "execution_count": 20,
     "metadata": {},
     "output_type": "execute_result"
    }
   ],
   "source": [
    "agent_role"
   ]
  },
  {
   "cell_type": "markdown",
   "id": "8cb90c5f",
   "metadata": {},
   "source": [
    "# Setup"
   ]
  },
  {
   "cell_type": "code",
   "execution_count": 14,
   "id": "3b91c0c9",
   "metadata": {},
   "outputs": [],
   "source": [
    "from knowledge_base import KnowledgeBasesForAmazonBedrock\n",
    "from agent import invoke_agent_helper\n",
    "import boto3\n",
    "import os\n",
    "import time\n",
    "import json\n",
    "import ipywidgets as widgets"
   ]
  },
  {
   "cell_type": "code",
   "execution_count": 3,
   "id": "99d98ca7",
   "metadata": {},
   "outputs": [],
   "source": [
    "iam_client = boto3.client('iam')\n",
    "bedrock_agent_client = boto3.client('bedrock-agent')\n",
    "bedrock_agent_runtime_client = boto3.client('bedrock-agent-runtime')\n",
    "s3_client = boto3.client('s3')"
   ]
  },
  {
   "cell_type": "code",
   "execution_count": 6,
   "id": "629e55f5",
   "metadata": {},
   "outputs": [],
   "source": [
    "sts_client = boto3.client('sts')\n",
    "session = boto3.session.Session()\n",
    "region = session.region_name\n",
    "account_id = sts_client.get_caller_identity()[\"Account\"]\n",
    "\n",
    "suffix = f\"{region}-{account_id}\"\n",
    "agent_name = 'lol-coach-agent'"
   ]
  },
  {
   "cell_type": "code",
   "execution_count": 15,
   "id": "0b35b80e",
   "metadata": {},
   "outputs": [
    {
     "name": "stdout",
     "output_type": "stream",
     "text": [
      "Dropdown(description='FM:', options=(('Claude 3 Sonnet', 'anthropic.claude-3-sonnet-20240229-v1:0'), ('Claude 3 Haiku', 'anthropic.claude-3-haiku-20240307-v1:0')), value='anthropic.claude-3-sonnet-20240229-v1:0')\n",
      "anthropic.claude-3-sonnet-20240229-v1:0\n"
     ]
    }
   ],
   "source": [
    "agent_foundation_model_selector = widgets.Dropdown(\n",
    "    options=[\n",
    "        ('Claude 3 Sonnet', 'anthropic.claude-3-sonnet-20240229-v1:0'),\n",
    "        ('Claude 3 Haiku', 'anthropic.claude-3-haiku-20240307-v1:0')\n",
    "    ],\n",
    "    value='anthropic.claude-3-sonnet-20240229-v1:0',\n",
    "    description='FM:',\n",
    "    disabled=False,\n",
    ")\n",
    "print(agent_foundation_model_selector)\n",
    "\n",
    "agent_foundation_model = agent_foundation_model_selector.value\n",
    "print(agent_foundation_model)"
   ]
  },
  {
   "cell_type": "code",
   "execution_count": 24,
   "id": "9d0a1c87",
   "metadata": {},
   "outputs": [],
   "source": [
    "agent_id = 'UFSZYQKWFU'"
   ]
  },
  {
   "cell_type": "markdown",
   "id": "3d0c067d",
   "metadata": {},
   "source": [
    "# Setting up Knowledge Base Information"
   ]
  },
  {
   "cell_type": "code",
   "execution_count": null,
   "id": "c7aef991",
   "metadata": {},
   "outputs": [],
   "source": [
    "knowledge_base_name = f'{agent_name}-kb'\n",
    "knowledge_base_description = \"Knowledge Base containing information about League of Legends early game impact\"\n",
    "bucket_name = f'{agent_name}-{suffix}'"
   ]
  },
  {
   "cell_type": "markdown",
   "id": "c84de598",
   "metadata": {},
   "source": [
    "# Creating Knowledge Base for Amazon Bedrock"
   ]
  },
  {
   "cell_type": "code",
   "execution_count": 8,
   "id": "11caf7c6",
   "metadata": {},
   "outputs": [
    {
     "name": "stderr",
     "output_type": "stream",
     "text": [
      "[2025-10-12 02:13:54,511] p81738 {credentials.py:1224} INFO - Found credentials in environment variables.\n",
      "[2025-10-12 02:13:57,316] p81738 {credentials.py:1224} INFO - Found credentials in environment variables.\n"
     ]
    },
    {
     "name": "stdout",
     "output_type": "stream",
     "text": [
      "Creating KB lol-coach-agent-kb\n",
      "========================================================================================\n",
      "Step 1 - Creating or retrieving lol-coach-agent-us-east-1-161242380044 S3 bucket for Knowledge Base documents\n",
      "Creating bucket lol-coach-agent-us-east-1-161242380044\n",
      "========================================================================================\n",
      "Step 2 - Creating Knowledge Base Execution Role (AmazonBedrockExecutionRoleForKnowledgeBase_729) and Policies\n",
      "========================================================================================\n",
      "Step 3 - Creating OSS encryption, network and data access policies\n",
      "========================================================================================\n",
      "Step 4 - Creating OSS Collection (this step takes a couple of minutes to complete)\n",
      "{ 'ResponseMetadata': { 'HTTPHeaders': { 'connection': 'keep-alive',\n",
      "                                         'content-length': '314',\n",
      "                                         'content-type': 'application/x-amz-json-1.0',\n",
      "                                         'date': 'Sat, 11 Oct 2025 18:14:07 '\n",
      "                                                 'GMT',\n",
      "                                         'x-amzn-requestid': '5e6a5be1-777c-42b7-9ff5-f22734c66ae6'},\n",
      "                        'HTTPStatusCode': 200,\n",
      "                        'RequestId': '5e6a5be1-777c-42b7-9ff5-f22734c66ae6',\n",
      "                        'RetryAttempts': 0},\n",
      "  'createCollectionDetail': { 'arn': 'arn:aws:aoss:us-east-1:161242380044:collection/spljh3mzj5olfj7zye81',\n",
      "                              'createdDate': 1760206446519,\n",
      "                              'id': 'spljh3mzj5olfj7zye81',\n",
      "                              'kmsKeyArn': 'auto',\n",
      "                              'lastModifiedDate': 1760206446519,\n",
      "                              'name': 'lol-coach-agent-kb-729',\n",
      "                              'standbyReplicas': 'ENABLED',\n",
      "                              'status': 'CREATING',\n",
      "                              'type': 'VECTORSEARCH'}}\n",
      "spljh3mzj5olfj7zye81.us-east-1.aoss.amazonaws.com\n",
      "Creating collection...\n",
      "Creating collection...........\n",
      "Creating collection...........\n",
      "Creating collection...........\n",
      "Creating collection...........\n",
      "Creating collection...........\n",
      "Creating collection...........\n",
      "..............................\n",
      "Collection successfully created:\n",
      "[ { 'arn': 'arn:aws:aoss:us-east-1:161242380044:collection/spljh3mzj5olfj7zye81',\n",
      "    'collectionEndpoint': 'https://spljh3mzj5olfj7zye81.us-east-1.aoss.amazonaws.com',\n",
      "    'createdDate': 1760206446519,\n",
      "    'dashboardEndpoint': 'https://spljh3mzj5olfj7zye81.us-east-1.aoss.amazonaws.com/_dashboards',\n",
      "    'fipsEndpoints': { 'collectionEndpoint': 'https://spljh3mzj5olfj7zye81.us-east-1.aoss-fips.amazonaws.com',\n",
      "                       'dashboardEndpoint': 'https://spljh3mzj5olfj7zye81.us-east-1.aoss-fips.amazonaws.com/_dashboards'},\n",
      "    'id': 'spljh3mzj5olfj7zye81',\n",
      "    'kmsKeyArn': 'auto',\n",
      "    'lastModifiedDate': 1760206652946,\n",
      "    'name': 'lol-coach-agent-kb-729',\n",
      "    'standbyReplicas': 'ENABLED',\n",
      "    'status': 'ACTIVE',\n",
      "    'type': 'VECTORSEARCH'}]\n",
      "Opensearch serverless arn:  arn:aws:iam::161242380044:policy/AmazonBedrockOSSPolicyForKnowledgeBase_729\n",
      "Sleeping for a minute to ensure data access rules have been enforced\n",
      "========================================================================================\n",
      "Step 5 - Creating OSS Vector Index\n"
     ]
    },
    {
     "name": "stderr",
     "output_type": "stream",
     "text": [
      "[2025-10-12 02:18:44,090] p81738 {base.py:258} INFO - PUT https://spljh3mzj5olfj7zye81.us-east-1.aoss.amazonaws.com:443/lol-coach-agent-kb-index-729 [status:200 request:2.026s]\n"
     ]
    },
    {
     "name": "stdout",
     "output_type": "stream",
     "text": [
      "\n",
      "Creating index:\n",
      "{ 'acknowledged': True,\n",
      "  'index': 'lol-coach-agent-kb-index-729',\n",
      "  'shards_acknowledged': True}\n",
      "========================================================================================\n",
      "Step 6 - Creating Knowledge Base\n",
      "{'type': 'VECTOR', 'vectorKnowledgeBaseConfiguration': {'embeddingModelArn': 'arn:aws:bedrock:us-east-1::foundation-model/amazon.titan-embed-text-v2:0'}}\n",
      "{ 'createdAt': datetime.datetime(2025, 10, 11, 18, 19, 45, 215177, tzinfo=tzutc()),\n",
      "  'description': 'Knowledge Base containing League of Legends information',\n",
      "  'knowledgeBaseArn': 'arn:aws:bedrock:us-east-1:161242380044:knowledge-base/WKEF55LDYB',\n",
      "  'knowledgeBaseConfiguration': { 'type': 'VECTOR',\n",
      "                                  'vectorKnowledgeBaseConfiguration': { 'embeddingModelArn': 'arn:aws:bedrock:us-east-1::foundation-model/amazon.titan-embed-text-v2:0'}},\n",
      "  'knowledgeBaseId': 'WKEF55LDYB',\n",
      "  'name': 'lol-coach-agent-kb',\n",
      "  'roleArn': 'arn:aws:iam::161242380044:role/AmazonBedrockExecutionRoleForKnowledgeBase_729',\n",
      "  'status': 'CREATING',\n",
      "  'storageConfiguration': { 'opensearchServerlessConfiguration': { 'collectionArn': 'arn:aws:aoss:us-east-1:161242380044:collection/spljh3mzj5olfj7zye81',\n",
      "                                                                   'fieldMapping': { 'metadataField': 'text-metadata',\n",
      "                                                                                     'textField': 'text',\n",
      "                                                                                     'vectorField': 'vector'},\n",
      "                                                                   'vectorIndexName': 'lol-coach-agent-kb-index-729'},\n",
      "                            'type': 'OPENSEARCH_SERVERLESS'},\n",
      "  'updatedAt': datetime.datetime(2025, 10, 11, 18, 19, 45, 215177, tzinfo=tzutc())}\n",
      "{ 'createdAt': datetime.datetime(2025, 10, 11, 18, 19, 47, 579028, tzinfo=tzutc()),\n",
      "  'dataDeletionPolicy': 'RETAIN',\n",
      "  'dataSourceConfiguration': { 's3Configuration': { 'bucketArn': 'arn:aws:s3:::lol-coach-agent-us-east-1-161242380044'},\n",
      "                               'type': 'S3'},\n",
      "  'dataSourceId': 'SOVPB0EAUO',\n",
      "  'description': 'Knowledge Base containing League of Legends information',\n",
      "  'knowledgeBaseId': 'WKEF55LDYB',\n",
      "  'name': 'lol-coach-agent-kb',\n",
      "  'status': 'AVAILABLE',\n",
      "  'updatedAt': datetime.datetime(2025, 10, 11, 18, 19, 47, 579028, tzinfo=tzutc()),\n",
      "  'vectorIngestionConfiguration': { 'chunkingConfiguration': { 'chunkingStrategy': 'FIXED_SIZE',\n",
      "                                                               'fixedSizeChunkingConfiguration': { 'maxTokens': 512,\n",
      "                                                                                                   'overlapPercentage': 20}}}}\n",
      "========================================================================================\n"
     ]
    }
   ],
   "source": [
    "kb = KnowledgeBasesForAmazonBedrock()\n",
    "kb_id, ds_id = kb.create_or_retrieve_knowledge_base(knowledge_base_name, knowledge_base_description, bucket_name)"
   ]
  },
  {
   "cell_type": "code",
   "execution_count": 9,
   "id": "6b6b15d5",
   "metadata": {},
   "outputs": [
    {
     "name": "stdout",
     "output_type": "stream",
     "text": [
      "uploading file kb_documents/league-legends-study.pdf to lol-coach-agent-us-east-1-161242380044\n"
     ]
    }
   ],
   "source": [
    "def upload_directory(path, bucket_name):\n",
    "        for root,dirs,files in os.walk(path):\n",
    "            for file in files:\n",
    "                file_to_upload = os.path.join(root,file)\n",
    "                print(f\"uploading file {file_to_upload} to {bucket_name}\")\n",
    "                s3_client.upload_file(file_to_upload,bucket_name,file)\n",
    "\n",
    "upload_directory(\"kb_documents\", bucket_name)"
   ]
  },
  {
   "cell_type": "code",
   "execution_count": 11,
   "id": "c8d125ac",
   "metadata": {},
   "outputs": [
    {
     "name": "stdout",
     "output_type": "stream",
     "text": [
      "{ 'dataSourceId': 'SOVPB0EAUO',\n",
      "  'ingestionJobId': 'UW0PH9VDE2',\n",
      "  'knowledgeBaseId': 'WKEF55LDYB',\n",
      "  'startedAt': datetime.datetime(2025, 10, 12, 5, 0, 53, 633837, tzinfo=tzutc()),\n",
      "  'statistics': { 'numberOfDocumentsDeleted': 0,\n",
      "                  'numberOfDocumentsFailed': 0,\n",
      "                  'numberOfDocumentsScanned': 0,\n",
      "                  'numberOfMetadataDocumentsModified': 0,\n",
      "                  'numberOfMetadataDocumentsScanned': 0,\n",
      "                  'numberOfModifiedDocumentsIndexed': 0,\n",
      "                  'numberOfNewDocumentsIndexed': 0},\n",
      "  'status': 'STARTING',\n",
      "  'updatedAt': datetime.datetime(2025, 10, 12, 5, 0, 53, 633837, tzinfo=tzutc())}\n",
      "{ 'dataSourceId': 'SOVPB0EAUO',\n",
      "  'ingestionJobId': 'UW0PH9VDE2',\n",
      "  'knowledgeBaseId': 'WKEF55LDYB',\n",
      "  'startedAt': datetime.datetime(2025, 10, 12, 5, 0, 53, 633837, tzinfo=tzutc()),\n",
      "  'statistics': { 'numberOfDocumentsDeleted': 0,\n",
      "                  'numberOfDocumentsFailed': 0,\n",
      "                  'numberOfDocumentsScanned': 1,\n",
      "                  'numberOfMetadataDocumentsModified': 0,\n",
      "                  'numberOfMetadataDocumentsScanned': 0,\n",
      "                  'numberOfModifiedDocumentsIndexed': 0,\n",
      "                  'numberOfNewDocumentsIndexed': 1},\n",
      "  'status': 'COMPLETE',\n",
      "  'updatedAt': datetime.datetime(2025, 10, 12, 5, 1, 25, 367552, tzinfo=tzutc())}\n",
      "........................................\r"
     ]
    }
   ],
   "source": [
    "# ensure that the kb is available\n",
    "i_status = ['CREATING', 'DELETING', 'UPDATING']\n",
    "while bedrock_agent_client.get_knowledge_base(knowledgeBaseId=kb_id)['knowledgeBase']['status'] in i_status:\n",
    "    time.sleep(10)\n",
    "\n",
    "# sync knowledge base\n",
    "kb.synchronize_data(kb_id, ds_id)"
   ]
  },
  {
   "cell_type": "markdown",
   "id": "bf14c174",
   "metadata": {},
   "source": [
    "# Testing Knowledge Base"
   ]
  },
  {
   "cell_type": "code",
   "execution_count": 34,
   "id": "d8fa1a61",
   "metadata": {},
   "outputs": [
    {
     "name": "stdout",
     "output_type": "stream",
     "text": [
      "The top laner's role in the early game is focused on gaining experience (XP). The study found that the top laner relies heavily on early game XP gained, more so than other roles. This suggests that for top laners, accumulating XP in the first 10 minutes is crucial for their overall performance and impact on the game outcome. The top laner's creep score (CS), which measures the number of minions and monsters killed, is also an important factor in the early game according to the analysis. After XP, the top laner benefits more from a high CS than other roles in the early stages.\n",
      "\n"
     ]
    }
   ],
   "source": [
    "response = bedrock_agent_runtime_client.retrieve_and_generate(\n",
    "    input={\n",
    "        \"text\": \"Can you describe the role of a top laner during early game?\"\n",
    "    },\n",
    "    retrieveAndGenerateConfiguration={\n",
    "        \"type\": \"KNOWLEDGE_BASE\",\n",
    "        \"knowledgeBaseConfiguration\": {\n",
    "            'knowledgeBaseId': kb_id,\n",
    "            \"modelArn\": \"arn:aws:bedrock:{}::foundation-model/{}\".format(region, agent_foundation_model),\n",
    "            \"retrievalConfiguration\": {\n",
    "                \"vectorSearchConfiguration\": {\n",
    "                    \"numberOfResults\":5\n",
    "                } \n",
    "            }\n",
    "        }\n",
    "    }\n",
    ")\n",
    "\n",
    "print(response['output']['text'],end='\\n'*2)"
   ]
  },
  {
   "cell_type": "markdown",
   "id": "8e270bcf",
   "metadata": {},
   "source": [
    "# Updating Agent role to allow Knowledge Base Retrieve and Retrieve and Generate queries"
   ]
  },
  {
   "cell_type": "code",
   "execution_count": null,
   "id": "f6b2ede1",
   "metadata": {},
   "outputs": [
    {
     "data": {
      "text/plain": [
       "{'ResponseMetadata': {'RequestId': '17966220-41aa-4d2c-9b56-bbb67e28c214',\n",
       "  'HTTPStatusCode': 200,\n",
       "  'HTTPHeaders': {'date': 'Sun, 12 Oct 2025 05:12:45 GMT',\n",
       "   'x-amzn-requestid': '17966220-41aa-4d2c-9b56-bbb67e28c214',\n",
       "   'content-type': 'text/xml',\n",
       "   'content-length': '212'},\n",
       "  'RetryAttempts': 0}}"
      ]
     },
     "execution_count": 22,
     "metadata": {},
     "output_type": "execute_result"
    }
   ],
   "source": [
    "kb_policies_statements = [\n",
    "    {\n",
    "        \"Sid\": \"QueryKB\",\n",
    "        \"Effect\": \"Allow\",\n",
    "        \"Action\": [\n",
    "            \"bedrock:Retrieve\",\n",
    "            \"bedrock:RetrieveAndGenerate\"\n",
    "        ],\n",
    "        \"Resource\": [\n",
    "            f\"arn:aws:bedrock:{region}:{account_id}:knowledge-base/{kb_id}\"\n",
    "        ]\n",
    "    }\n",
    "]\n",
    "bedrock_agent_kb_policy_statement = {\n",
    "    \"Version\": \"2012-10-17\",\n",
    "    \"Statement\": kb_policies_statements\n",
    "}\n",
    "bedrock_agent_kb_policy_json = json.dumps(bedrock_agent_kb_policy_statement)\n",
    "kb_policy_name = f\"{agent_name}-kb-{kb_id}\"\n",
    "agent_kb_policy = iam_client.create_policy(\n",
    "    PolicyName=kb_policy_name,\n",
    "    PolicyDocument=bedrock_agent_kb_policy_json\n",
    ")\n",
    "iam_client.attach_role_policy(\n",
    "    RoleName=agent_role['Role']['RoleName'],\n",
    "    PolicyArn=agent_kb_policy['Policy']['Arn']\n",
    ")"
   ]
  },
  {
   "cell_type": "markdown",
   "id": "63ff4e8c",
   "metadata": {},
   "source": [
    "# Associate Knowledge Base with Agent"
   ]
  },
  {
   "cell_type": "code",
   "execution_count": 25,
   "id": "b4e9d78f",
   "metadata": {},
   "outputs": [],
   "source": [
    "#time.sleep(10)\n",
    "response = bedrock_agent_client.associate_agent_knowledge_base(\n",
    "    agentId=agent_id,\n",
    "    agentVersion='DRAFT',\n",
    "    description='Access the knowledge base when customers ask about League of Legends early game impact.',\n",
    "    knowledgeBaseId=kb_id,\n",
    "    knowledgeBaseState='ENABLED'\n",
    ")"
   ]
  },
  {
   "cell_type": "code",
   "execution_count": 26,
   "id": "f4fb9ed6",
   "metadata": {},
   "outputs": [
    {
     "name": "stdout",
     "output_type": "stream",
     "text": [
      "{'ResponseMetadata': {'RequestId': '7eb472db-5806-46fe-ad5f-5d63703b6f70', 'HTTPStatusCode': 202, 'HTTPHeaders': {'date': 'Sun, 12 Oct 2025 06:12:33 GMT', 'content-type': 'application/json', 'content-length': '119', 'connection': 'keep-alive', 'x-amzn-requestid': '7eb472db-5806-46fe-ad5f-5d63703b6f70', 'x-amz-apigw-id': 'SUgAyFtUIAMEVRw=', 'x-amzn-trace-id': 'Root=1-68eb46d1-36f0292a04340d8356ed2729'}, 'RetryAttempts': 0}, 'agentId': 'UFSZYQKWFU', 'agentStatus': 'PREPARING', 'agentVersion': 'DRAFT', 'preparedAt': datetime.datetime(2025, 10, 12, 6, 12, 33, 697013, tzinfo=tzutc())}\n"
     ]
    }
   ],
   "source": [
    "response = bedrock_agent_client.prepare_agent(\n",
    "    agentId=agent_id\n",
    ")\n",
    "print(response)\n",
    "# Pause to make sure agent is prepared\n",
    "intermediate_agent_status = ['CREATING', 'PREPARING', 'UPDATING', 'VERSIONING']\n",
    "while bedrock_agent_client.get_agent(agentId=agent_id)['agent']['agentStatus'] in intermediate_agent_status:\n",
    "    time.sleep(10)"
   ]
  },
  {
   "cell_type": "markdown",
   "id": "02f4157e",
   "metadata": {},
   "source": [
    "# Invoking Agent"
   ]
  },
  {
   "cell_type": "code",
   "execution_count": 28,
   "id": "574adaad",
   "metadata": {},
   "outputs": [],
   "source": [
    "alias_id = 'TSTALIASID'"
   ]
  },
  {
   "cell_type": "code",
   "execution_count": null,
   "id": "5fbd82ee",
   "metadata": {},
   "outputs": [
    {
     "name": "stdout",
     "output_type": "stream",
     "text": [
      "\n",
      "\n",
      "The study on the early game impact in League of Legends found that a player's performance in the first 10 minutes, measured by factors like experience earned, gold, damage taken, and creep score (CS), has a significant correlation with their overall performance at the end of the game. This correlation was strongest for the Mid and Carry roles, while the Top role was least impacted by early game performance.\n",
      "\n",
      "\n",
      "\n",
      "\n",
      "\n",
      "\n",
      "The study also examined how individual players' early game metrics correlated with the overall team's end game performance. While there was a correlation, it was weaker than the individual early-to-end game correlation, except for the Top laner's experience and the Mid/Carry's gold income which were important predictors of team performance.\n",
      "\n",
      "\n",
      "\n",
      "\n",
      "\n",
      "\n",
      "Using early game features, the researchers built a predictive model that could determine the match outcome with 62% accuracy, which is comparable to state-of-the-art for such a complex game. The findings suggest focusing on improving early game performance, especially for certain roles, could lead to better overall results.\n",
      "\n",
      "\n",
      "\n",
      "CPU times: user 29.6 ms, sys: 7.16 ms, total: 36.8 ms\n",
      "Wall time: 16.7 s\n"
     ]
    }
   ],
   "source": [
    "%%time\n",
    "import uuid\n",
    "session_id:str = str(uuid.uuid1())\n",
    "query = \"Can you describe the role of a top laner during early game?\"\n",
    "response = invoke_agent_helper(query, session_id, agent_id, alias_id)\n",
    "print(response)"
   ]
  }
 ],
 "metadata": {
  "kernelspec": {
   "display_name": "base",
   "language": "python",
   "name": "python3"
  },
  "language_info": {
   "codemirror_mode": {
    "name": "ipython",
    "version": 3
   },
   "file_extension": ".py",
   "mimetype": "text/x-python",
   "name": "python",
   "nbconvert_exporter": "python",
   "pygments_lexer": "ipython3",
   "version": "3.12.7"
  }
 },
 "nbformat": 4,
 "nbformat_minor": 5
}
